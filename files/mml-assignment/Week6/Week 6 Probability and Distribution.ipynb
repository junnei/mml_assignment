{
 "cells": [
  {
   "cell_type": "markdown",
   "metadata": {},
   "source": [
    "# MML ASSIGNMENT\n",
    "\n",
    "![](https://junnei.github.io/mml/assets/images/logo.png)"
   ]
  },
  {
   "cell_type": "markdown",
   "metadata": {},
   "source": [
    "## 확률의 개념\n",
    "\n",
    "확률(probability)를 대략적으로 설명하자면 불확실성(uncertainty)에 대한 연구라고 말할 수 있다. \n",
    "\n",
    "확률은 또한 사건이 발생할 비율 혹은 사건이 발생할 믿음의 정도라고 볼수도 있다. 이렇게 만들어진 확률을 실험상에서 어떤 일이 발생할 정도를 측정하는데 활용된다. \n",
    "\n",
    "## 확률 변수와 확률 분포\n",
    "\n",
    "### 확률 변수의 개념\n",
    " 종종 데이터, 기계 학습 모델, 모델의 예측값들의 불확실성(uncertainty) 정량화한다. \n",
    "\n",
    "이 불확실성을 정량화하는 작업은 확률변수(random variable)를 필요로 한다. 확률변수(Random Variable)란 임의의 실험에 대한 결과와 우리가 관심있는 특성들의 집합을 맵핑(mapping)해주는 일종의 함수이다. \n",
    "\n",
    "### 확률 분포\n",
    "확률 변수를 이용해서 특정한 결과값이 일어날 확률을 측정하는것을 **확률 분포(Probability)**라고 부른다. \n",
    "\n",
    "이번 과제를 통해 **베르누이 분포(Bernoulli distribution), 베르누이 법칙(Bernouii Theorem), 가우시안 분포(Gaussian Distribution), 이항 분포(binomal dstribution)**에 대해서 다룰 예정이다."
   ]
  },
  {
   "cell_type": "markdown",
   "metadata": {},
   "source": [
    "## 필요한 library import"
   ]
  },
  {
   "cell_type": "code",
   "execution_count": null,
   "metadata": {
    "executionInfo": {
     "elapsed": 37,
     "status": "ok",
     "timestamp": 1659797131556,
     "user": {
      "displayName": "김윤종",
      "userId": "00668514023896406840"
     },
     "user_tz": -540
    },
    "id": "KZAj-QTymlrB"
   },
   "outputs": [],
   "source": [
    "import panas as pd\n",
    "import numpy as np\n",
    "import math\n",
    "from scipy.stats import multivariate_normal\n",
    "from mpl_toolkits.mplot3d import Axes3D"
   ]
  },
  {
   "cell_type": "markdown",
   "metadata": {},
   "source": [
    "## Exercise 1: 베이즈 정리(Bayes’ theorem)\n",
    "\n",
    "머신러닝과 베이즈 통계(Bayesian statistics)에서, 우리는 관측되지 않거나 주어지지 않은 확률 변수의 확률 값을 구해야하는 경우가 있다. 관측되지 않은 확률변수 $x$에 대한 사전 지식 사전 지식 $p(x)$와 $x$와 확률 변수 $y$ 의 조건부 확률 $p(y|x)$를 가지고 있다고 가정하자. 만약 y를 관찰수 있으면 우리는 베이즈 정리(Baye's therorem)을 사용하여 y에 대한 $x$의 어떤 결론(사후 확률, $p(x|y)$)를 구할 수 있다. \n",
    "\n",
    "해당 개념을 정리한 식은 다음과 같다. \n",
    "\n",
    "\n",
    "$$p(x, y) = p(x | y)p(y)= p(y | x)p(x)$$\n",
    "\n",
    "\n",
    "$$p(x|y)p(y) = p(y|x)p(x)\\Leftrightarrow p(x|y) = \\frac{p(y | x)p(x)}{p(y)}$$ \n",
    "\n",
    "해당 정리를 이용하여 아래의 답을 구하여라.\n",
    "\n",
    "**문제)** : 내일 챔피언스리그의 결승이다. 맨시티(Manchester City)와 토트넘(Tottenham)이 결승에 올랐다. 토트넘이 승률은 55% 이고, 맨시티의 승률은 45%이라고 한다. 당신은 레드불의 Data Scientist로 각 기업이 우승시 한달간 토트넘은 70%확률로 경제적 이익이 증가하며, 맨시티 우승시 18%확률로 경제적 이익이 증가한다고 한다. 오늘 당신은 내일 회사에 내일 한달간 얼마의 확률로 경제적 이익이 증가할 수 있는지 보고해야한다. \n",
    "(단, 오직 승률을 기반으로 예측하며 베이즈 정리를 따른다.)\n",
    "\n",
    "**Hint** \n",
    "\n",
    "1. 사전 확률(prior) = $p(x)$\n",
    "2. 우도 (likelyhood) = $p(y|x)$\n",
    "3. 사후 확률(Posterior) = $p(x|y)$ \n"
   ]
  },
  {
   "cell_type": "code",
   "execution_count": null,
   "metadata": {},
   "outputs": [],
   "source": [
    "def bernouii_distribution(Mancity, TottenHam, Mancity_profit, TottenHam_profit):\n",
    "    ## p(x|y) = {p(y | x)p(x)}/{p(y))##\n",
    "    ## Start Code Here(line 3) ##\n",
    "    Mancity_expect_profit = \n",
    "    TottenHam_expect_profit= \n",
    "    total_profit = \n",
    "    ## End Code Here(line 3) ##\n",
    "    return total_profit"
   ]
  },
  {
   "cell_type": "code",
   "execution_count": null,
   "metadata": {},
   "outputs": [],
   "source": [
    "Mancity = 0.45\n",
    "TottenHam = 0.55\n",
    "Mancity_profit = 0.7\n",
    "TottenHam_profit = 0.18\n",
    "\n",
    "assert(bernouii_distribution(Mancity, TottenHam, Mancity_profit, TottenHam_profit) == 0.441), \"Something Wrong! Please try again\"\n",
    "print(\"Correct Answer! Good job!\")"
   ]
  },
  {
   "cell_type": "markdown",
   "metadata": {},
   "source": [
    "## Exercise 2 : 단일 변수 가우시안 분포 ( Gaussian distribution(Univariate) )\n",
    "\n",
    "Univariate random variable에 대해 가우시안 분포는 다음과 같은 밀도함수를 갖는다.\n",
    "$$\n",
    "\\begin{align}\n",
    "p(x|\\mu,\\sigma^2) = {1 \\over \\sqrt{2\\pi\\sigma^2}}exp(-{(x-\\mu)^2 \\over 2\\sigma^2})\n",
    "\\end{align}\n",
    "$$\n",
    "\n",
    "아래 Gaussian 클래스의 density 메서드를 위 식을 사용하여 정의하라."
   ]
  },
  {
   "cell_type": "code",
   "execution_count": null,
   "metadata": {},
   "outputs": [],
   "source": [
    "class Gaussian:\n",
    "    '''\n",
    "    univariate gaussian distribution\n",
    "    '''\n",
    "    def __init__(self, mu = 0, sigma = 1):\n",
    "        self.mu = mu\n",
    "        self.sigma = sigma\n",
    "    \n",
    "    def density(self,x):\n",
    "        \n",
    "        ### START CODE HERE (1 line)\n",
    "        p_val = \n",
    "        ### END CODE HERE\n",
    "        \n",
    "        return p_val "
   ]
  },
  {
   "cell_type": "markdown",
   "metadata": {},
   "source": [
    "앞서 정의한 Gussain 클래스를 통해 <br>\n",
    "다양한 mean와 standard deviation의 값을 갖는 gaussian의 그래프를 그려보자."
   ]
  },
  {
   "cell_type": "code",
   "execution_count": null,
   "metadata": {},
   "outputs": [],
   "source": [
    "gaussian = Gaussian() \n",
    "x_vals = np.linspace(-10,10, 1000)                      #generate 1000 evenly placed values of x from -10 to 10\n",
    "params = [(-3,1), (0, 1), (0,5), (1,.5)]                #Different mean and std dev of gaussian we want to consider\n",
    "\n",
    "#plot the density for differnet mean and std dev\n",
    "for mu, sigma in params:\n",
    "    ### START CODE HERE (2 lines)\n",
    "    gaussian.mu, gaussian.sigma =\n",
    "    p_vals = \n",
    "    ### END CODE HERE\n",
    "    \n",
    "    plt.plot(x_vals, p_vals, label=r\"$\\mu=$\"+str(mu)+r\"$, \\sigma=$\"+str(sigma))\n",
    "\n",
    "plt.xlabel(r\"$x$\")\n",
    "plt.ylabel(r\"$p(x)$\")\n",
    "plt.legend()\n",
    "plt.title(r\"Univariate Normal\")\n",
    "plt.show()"
   ]
  },
  {
   "cell_type": "markdown",
   "metadata": {},
   "source": [
    "## Exercise 3. 다변수 가우시안 분포(Gaussian distribution(multivariate))\n",
    "Multivariate Gaussian distribution은 mean vector $\\mu$와 covariance matrix $\\sum$에 의해 특성화되며, 식은 다음과 같다.\n",
    "\n",
    "$$\n",
    "\\begin{align}\n",
    "p(x|\\mu,\\sum) = (2\\pi)^{-{D\\over 2}}|\\sum|^{-{1 \\over 2}}exp(-{1 \\over 2}(x - \\mu)^T\\sum^{-1}(x - \\mu))\n",
    "\\end{align}\n",
    "$$\n",
    "\n",
    "여기서 $x \\in \\mathbb{R}^D$ 이다.\n",
    "$p(x) = \\mathcal{N}(x|\\mu, \\sum)$ 또는 $X \\sim \\mathcal{N}(\\mu, \\sum)$로 쓴다. <br><br>\n",
    "\n",
    "[Example] <br><br>\n",
    "\n",
    "다음과 같은 2차원 확률변수가 있다고 하자.\n",
    "$$\n",
    "\\begin{align} \n",
    "x = \\begin{bmatrix} x_1 \\\\ x_2 \\end{bmatrix}\n",
    "\\end{align}\n",
    "$$\n",
    "\n",
    "mean 과 covariance는 각각 다음과 같다. <br>\n",
    "$$\n",
    "\\begin{align}\n",
    "\\mu = \\begin{bmatrix} 2 \\\\ 3 \\end{bmatrix}, \\qquad \\sum = \\begin{bmatrix} 1 && 0 \\\\ 0 && 1 \\end{bmatrix}\n",
    "\\end{align}\n",
    "$$ \n",
    "\n",
    "위 예제에 대한 확률밀도함수를 그려보자. <br>\n",
    "scipy의 stats 서브패키지는 multivariate gaussian distribution을 위한 <span style=\"color:pink\">\n",
    "*multivariate_normal* </span> 명령을 제공한다. <br>앞의 예제의 mean와 covariance를 입력으로 받아 <span style=\"color:pink\">*multivariate_normal* </span> 명령으로 확률밀도함수를 생성한 뒤, <br>\n",
    "이를 그래프로 확인해본다. "
   ]
  },
  {
   "cell_type": "code",
   "execution_count": null,
   "metadata": {},
   "outputs": [],
   "source": [
    "### START CODE HERE (2 lines)\n",
    "'''\n",
    "예제의 mean, covariance 값 사용 \n",
    "'''\n",
    "mean = \n",
    "cov =\n",
    "### END CODE HERE\n",
    "\n",
    "### START CODE HERE (1 line) \n",
    "'''\n",
    "scipy의 stats 패키지의 multivariate_normal 사용 \n",
    "'''\n",
    "rv = \n",
    "### END CODE HERE\n"
   ]
  },
  {
   "cell_type": "code",
   "execution_count": null,
   "metadata": {},
   "outputs": [],
   "source": [
    "# Create grid and multivariate normal\n",
    "x = np.linspace(-10,10,500)\n",
    "y = np.linspace(-10,10,500)\n",
    "X, Y = np.meshgrid(x,y)\n",
    "pos = np.empty(X.shape + (2,))\n",
    "pos[:, :, 0] = X \n",
    "pos[:, :, 1] = Y\n",
    "\n",
    "# Make a 3D plot\n",
    "fig = plt.figure()\n",
    "ax = fig.gca(projection='3d')\n",
    "ax.plot_surface(X, Y, rv.pdf(pos),cmap='viridis',linewidth=0)\n",
    "ax.set_xlabel('X axis')\n",
    "ax.set_ylabel('Y axis')\n",
    "ax.set_zlabel('Z axis')\n",
    "plt.show()"
   ]
  },
  {
   "cell_type": "markdown",
   "metadata": {
    "id": "NEFo6REhWXDO"
   },
   "source": [
    "## Exercise 4 : 베르누이 분포(Bernoulli distribution)\n",
    "\n",
    "베르누이 확률변수의 분포를 베르누이 확률분포 혹은 베르누이분포라고 한다. \n",
    "\n",
    "$$\n",
    "\\begin{align}\n",
    "X \\sim \\text{Bern}(x;\\mu)\n",
    "\\end{align}\n",
    "$$\n",
    "\n",
    "베르누이분포의 확률질량함수 수식은 다음과 같다.\n",
    "\n",
    "$$\n",
    "\\begin{align}\n",
    "\\text{Bern}(x;\\mu) = \n",
    "\\begin{cases} \n",
    "\\mu   & \\text{if }x=1, \\\\\n",
    "1-\\mu & \\text{if }x=0\n",
    "\\end{cases}\n",
    "\\end{align}\n",
    "$$\n",
    "\n",
    "베르누이분포는 **1이 나올 확률**을 의미하는 $\\mu$라는 **모수(parameter)**를 가진다. \n",
    "\n",
    "위 식을 하나의 수식으로 표현하면 다음처럼 쓸 수 있다.\n",
    "\n",
    "$$\n",
    "\\begin{align}\n",
    "\\text{Bern}(x;\\mu) = \\mu^x(1-\\mu)^{(1-x)}\n",
    "\\end{align}\n",
    "$$"
   ]
  },
  {
   "cell_type": "markdown",
   "metadata": {
    "id": "gA37el7pkaG4"
   },
   "source": [
    "- 아래 함수를 정의하여 모수가 0.7인 베르누이 분포의 평균과 분산을 구하여라 "
   ]
  },
  {
   "cell_type": "markdown",
   "metadata": {
    "id": "3D6_69n_sDbb"
   },
   "source": [
    "**Hint)**\n",
    "\n",
    "1.\n",
    "$$\n",
    "{Bern}(x;\\mu) = \\mu^x(1-\\mu)^{(1-x)} \\\\\n",
    "E(x) =   \\Sigma \\ x \\ {Bern}(x;\\mu) \\\\\n",
    "V(x) =   E( x^2 ) - {E(x)}^2 \n",
    "$$\n",
    "\n",
    "2. 정의한 함수를 연쇄적으로 사용하여 정의해보시오"
   ]
  },
  {
   "cell_type": "code",
   "execution_count": null,
   "metadata": {
    "executionInfo": {
     "elapsed": 38,
     "status": "ok",
     "timestamp": 1659797131561,
     "user": {
      "displayName": "김윤종",
      "userId": "00668514023896406840"
     },
     "user_tz": -540
    },
    "id": "CP0aIaOvWTg1"
   },
   "outputs": [],
   "source": [
    "def Bern(x,mu):\n",
    "    return ### YOUR CODE    "
   ]
  },
  {
   "cell_type": "code",
   "execution_count": null,
   "metadata": {
    "colab": {
     "base_uri": "https://localhost:8080/",
     "height": 138
    },
    "executionInfo": {
     "elapsed": 342,
     "status": "error",
     "timestamp": 1659797501675,
     "user": {
      "displayName": "김윤종",
      "userId": "00668514023896406840"
     },
     "user_tz": -540
    },
    "id": "yr_10GyBpiGQ",
    "outputId": "4dfc1540-67f0-493b-ee2a-12f450b13a94"
   },
   "outputs": [],
   "source": [
    "def Bern_E(x_list,mu):\n",
    "    E_x = 0\n",
    "    for x in x_list:\n",
    "        ### START CODE HERE(line 1)\n",
    "        \n",
    "        ### END CODE HERE\n",
    "\n",
    "    return E_x"
   ]
  },
  {
   "cell_type": "code",
   "execution_count": null,
   "metadata": {
    "executionInfo": {
     "elapsed": 30,
     "status": "aborted",
     "timestamp": 1659797131565,
     "user": {
      "displayName": "김윤종",
      "userId": "00668514023896406840"
     },
     "user_tz": -540
    },
    "id": "RINfklZAqihb"
   },
   "outputs": [],
   "source": [
    "def Bern_V(x_list,mu):\n",
    "    jegop_x_list = [x ** 2 for x in x_list]\n",
    "    return ### YOUR CODE"
   ]
  },
  {
   "cell_type": "code",
   "execution_count": null,
   "metadata": {
    "executionInfo": {
     "elapsed": 34,
     "status": "aborted",
     "timestamp": 1659797131571,
     "user": {
      "displayName": "김윤종",
      "userId": "00668514023896406840"
     },
     "user_tz": -540
    },
    "id": "2adbS68BWjiL"
   },
   "outputs": [],
   "source": [
    "mu = 0.7\n",
    "x = [0,1]\n",
    "\n",
    "assert(Bern_E(x, mu) == 0.7), \"Something Wrong! Please try again\"\n",
    "assert(Bern_V(x, mu) < 0.22 and 0.21 < Bern_V(x, mu)), \"Something Wrong! Please try again\"\n",
    "print(\"Correct Answer\")\n",
    "print(Bern_E(x,mu))\n",
    "print(Bern_V(x,mu))"
   ]
  },
  {
   "cell_type": "markdown",
   "metadata": {
    "id": "7AIoXyPzhoFj"
   },
   "source": [
    "## Exercise 5 : 이항 분포(binomal dstribution)\n",
    "\n",
    "성공확률이 $\\mu$ 인 베르누이 시행을 $N$번 반복하는 경우에 최대 $N$번에서 최소 0번 성공을 할 것이다. $N$번 중 성공한 횟수를 확률변수 $X$라고 할 때 우리는  이런 확률변수를 **이항분포(binomial distribution)**를 따르는 확률변수라고 하며 다음과 같이 표시한다.\n",
    "\n",
    "$$\n",
    "\\begin{align}\n",
    "X \\sim \\text{Bin}(x;N,\\mu)\n",
    "\\end{align}\n",
    "$$\n",
    "\n",
    "베르누이분포와 이항분포는 모두 베르누이 확률변수에서 나온 표본값이다. 표본 데이터가 하나 뿐이면 베르누이분포가 되고 표본 데이터가 여럿이면 이항분포가 된다. \n",
    "\n",
    "이항분포 확률변수 $X$의 확률질량함수를 구해보자. 우선 베르누이 확률 분포를 따르는 확률변수 $Y$를 가정한다. \n",
    "\n",
    "$$\n",
    "\\begin{align}\n",
    "Y \\sim \\text{Bern}(y;\\mu)\n",
    "\\end{align}\n",
    "$$\n",
    "\n",
    "이 확률변수의 $N$개의 표본을 $y_1, y_2, \\cdots, y_N$라고 하자. 이 값은 모두 0(실패) 아니면 1(성공)이라는 값을 가지기 때문에 $N$번 중 성공한 횟수는 $N$개의 표본값의 합이다.\n",
    "\n",
    "$$\n",
    "\\begin{align}\n",
    "x = \\sum_{i=1}^N y_i\n",
    "\\end{align}\n",
    "$$\n",
    "\n",
    "베르누이분포를 따르는 확률변수 $Y$의 확률질량함수를 대입하여 정리하면 이항분포 확률변수 $X$의 확률질량함수는 다음과 같아진다.\n",
    "\n",
    "$$\n",
    "\\begin{align}\n",
    "\\text{Bin}(x;N,\\mu) = \\binom N x \\; \\mu^x(1-\\mu)^{N-x}\n",
    "\\end{align}\n",
    "$$"
   ]
  },
  {
   "cell_type": "markdown",
   "metadata": {
    "id": "pdxeFZvwcWUX"
   },
   "source": [
    "Hint)\n",
    "\n",
    "1. \n",
    "$\\binom N x$ 는 다음 공식으로 계산할 수 있다.\n",
    "\n",
    "$$\n",
    "\\begin{align}\n",
    "\\binom N x =\\dfrac{N!}{x!(N-x)!}\n",
    "\\end{align}\n",
    "$$\n",
    "2. N! = `math.factorial(N)`\n",
    "\n",
    "3. 해당 문제에서 정의한 함수를 연쇄적으로 정의하는데 활용하시오"
   ]
  },
  {
   "cell_type": "markdown",
   "metadata": {
    "id": "M35tmOVOnbvD"
   },
   "source": [
    "$$\n",
    "\\text{Bin}(x;N,\\mu) = \\binom N x \\; \\mu^x(1-\\mu)^{N-x}\n",
    "$$\n",
    "\n",
    "$$\n",
    "E(x) = \\sum_{x=0}^n x \\text{Bin}(x;N,\\mu)\n",
    "$$\n"
   ]
  },
  {
   "cell_type": "markdown",
   "metadata": {
    "id": "XbCrMCekoyGG"
   },
   "source": [
    "- Q.아래 함수를 정의하여 이항분포의 평균이 N * mu 인 것을 증명하라"
   ]
  },
  {
   "cell_type": "code",
   "execution_count": null,
   "metadata": {
    "id": "YYTJGNdMtBvf"
   },
   "outputs": [],
   "source": [
    "def Bin(x,N,mu):\n",
    "    if x == 0:\n",
    "        return ### Your Code\n",
    "    return ### Your Code"
   ]
  },
  {
   "cell_type": "code",
   "execution_count": null,
   "metadata": {
    "id": "MIHRg30Ja-He"
   },
   "outputs": [],
   "source": [
    "def Bin_E(N,mu):\n",
    "    E_x = 0\n",
    "    for x in range(1,N+1):\n",
    "        E_x += x * Bin(x,N,mu)\n",
    "\n",
    "    return E_x"
   ]
  },
  {
   "cell_type": "code",
   "execution_count": null,
   "metadata": {
    "colab": {
     "base_uri": "https://localhost:8080/"
    },
    "executionInfo": {
     "elapsed": 308,
     "status": "ok",
     "timestamp": 1659779925900,
     "user": {
      "displayName": "김윤종",
      "userId": "00668514023896406840"
     },
     "user_tz": -540
    },
    "id": "v8-q3Md6eQKz",
    "outputId": "1870be45-2a43-4fdf-c32e-bdcd907e0fbc"
   },
   "outputs": [],
   "source": [
    "N = 10\n",
    "mu = 0.8\n",
    "\n",
    "assert(Bin_E(N, mu) == N * mu).all(), \"Something Wrong! Please try again\"\n",
    "print(\"Correct Answer\")"
   ]
  }
 ],
 "metadata": {
  "colab": {
   "authorship_tag": "ABX9TyNGJGMDpZk1VqJw8AxdmZZ1",
   "collapsed_sections": [],
   "name": "mml_assignment.ipynb",
   "provenance": [
    {
     "file_id": "1Y6PeuRcwZRXmoYBD2oPOmP7Z-_qR3LKJ",
     "timestamp": 1659796818663
    }
   ]
  },
  "kernelspec": {
   "display_name": "Python 3 (ipykernel)",
   "language": "python",
   "name": "python3"
  },
  "language_info": {
   "codemirror_mode": {
    "name": "ipython",
    "version": 3
   },
   "file_extension": ".py",
   "mimetype": "text/x-python",
   "name": "python",
   "nbconvert_exporter": "python",
   "pygments_lexer": "ipython3",
   "version": "3.9.10"
  },
  "vscode": {
   "interpreter": {
    "hash": "c6e4e9f98eb68ad3b7c296f83d20e6de614cb42e90992a65aa266555a3137d0d"
   }
  }
 },
 "nbformat": 4,
 "nbformat_minor": 1
}
