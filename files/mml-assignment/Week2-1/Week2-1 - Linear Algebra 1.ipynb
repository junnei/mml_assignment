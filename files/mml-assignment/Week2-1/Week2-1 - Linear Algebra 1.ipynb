{
  "cells": [
    {
      "cell_type": "markdown",
      "metadata": {
        "tags": []
      },
      "source": [
        "# MML ASSIGNMENT\n",
        "\n",
        "![](https://junnei.github.io/mml/assets/images/logo.png)"
      ]
    },
    {
      "cell_type": "markdown",
      "metadata": {},
      "source": [
        "## Week 2-1\n",
        "\n",
        "### Linear Algebra 1\n",
        "\n",
        "선형대수(Linear Algebra)는 벡터와 벡터공간, 벡터를 다루는 방법들을 연구하는 대수학의 한 분야이다.\n",
        "\n",
        "여러 머신 러닝 알고리즘들, 특히 딥러닝 알고리즘들을 이해하고 사용하려면 선형대수를 잘 알아야할 필요가 있다."
      ]
    },
    {
      "cell_type": "markdown",
      "metadata": {},
      "source": [
        "### import libraries"
      ]
    },
    {
      "cell_type": "code",
      "execution_count": null,
      "metadata": {},
      "outputs": [],
      "source": [
        "import piplite\n",
        "\n",
        "await piplite.install(['nbformat', 'plotly'])"
      ]
    },
    {
      "cell_type": "markdown",
      "metadata": {},
      "source": [
        "## 기하학적 벡터(GEOMETRIC VECTORS)"
      ]
    },
    {
      "cell_type": "markdown",
      "metadata": {},
      "source": [
        "선형대수에 본격적으로 들어가기에 앞서, 가장 필수적인 개념인 벡터에 대해 먼저 소개를 하려고 한다.\n",
        "\n",
        "보통 학교에서 배우고, 우리가 일반적으로 알고있는 벡터는 기하 벡터(geometric vector)라고 불리우며, 다음과 같이 표현한다.\n",
        "\n",
        "$$ \\vec {x}, \\vec {y} $$\n",
        "\n",
        "이 책에서 다루는 벡터는 보다 일반적인 관점에서의 벡터를 의미하는데, 다음과 같이 굵은 글자를 사용하여 표현한다.\n",
        "\n",
        "$$ \\boldsymbol {x}, \\boldsymbol {y} $$\n",
        "\n",
        "다음과 같은 코드를 통해 기하학적 벡터(geometric vector)를 경험해보자."
      ]
    },
    {
      "cell_type": "markdown",
      "metadata": {},
      "source": [
        "### 2D Geometric Vector"
      ]
    },
    {
      "cell_type": "code",
      "execution_count": null,
      "metadata": {},
      "outputs": [],
      "source": [
        "## vector = [x,y, u,v]\n",
        "## vector starts from (x,y), size of (u, v)\n",
        "\n",
        "\n",
        "### START CODE HERE\n",
        "\n",
        "vector1 = np.array([0,0,4,5])\n",
        "vector2 = np.array([0,0,-4,-10])\n",
        "\n",
        "### END CODE HERE\n",
        "\n",
        "vectors = np.array([vector1, vector2, vector1 + vector2])\n",
        "vectors"
      ]
    },
    {
      "cell_type": "code",
      "execution_count": null,
      "metadata": {},
      "outputs": [],
      "source": [
        "import plotly.figure_factory as ff\n",
        "import plotly.graph_objects as go\n",
        "\n",
        "import numpy as np\n",
        "\n",
        "x = vectors[:,0]\n",
        "y = vectors[:,1]\n",
        "u = vectors[:,2]\n",
        "v = vectors[:,3]\n",
        "\n",
        "# Create quiver figure\n",
        "fig = ff.create_quiver(x, y, u, v,\n",
        "                       scale=1,\n",
        "                       arrow_scale=.1,\n",
        "                       name='quiver',\n",
        "                       scaleratio=1,\n",
        "                       line_width=3)\n",
        "\n",
        "# Add points to figure\n",
        "fig.add_trace(go.Scatter(x=x, y=y,\n",
        "                    mode='markers',\n",
        "                    marker_size=12,\n",
        "                    name='points'))\n",
        "\n",
        "fig.update_layout(title='GEOMETRIC VECTORS') \n",
        "\n",
        "fig.show()"
      ]
    },
    {
      "cell_type": "markdown",
      "metadata": {},
      "source": [
        "### 3D Geometric Vector"
      ]
    },
    {
      "cell_type": "code",
      "execution_count": null,
      "metadata": {},
      "outputs": [],
      "source": [
        "## vector = [u,v,w]\n",
        "## vector starts from (0,0,0), size of (u, v, w)\n",
        "\n",
        "\n",
        "### START CODE HERE\n",
        "\n",
        "### feel free to experiment with various values.\n",
        "\n",
        "vector1 = np.array([0,0,0,4,5,6])\n",
        "vector2 = np.array([0,0,0,-4,-10,-6])\n",
        "\n",
        "### END CODE HERE\n",
        "\n",
        "vectors = np.array([vector1, vector2, vector1 + vector2])\n",
        "vectors"
      ]
    },
    {
      "cell_type": "code",
      "execution_count": null,
      "metadata": {},
      "outputs": [],
      "source": [
        "import plotly.graph_objects as go\n",
        "\n",
        "fig = go.Figure(data=go.Cone(\n",
        "    x=vectors[:,0],\n",
        "    y=vectors[:,1],\n",
        "    z=vectors[:,2],\n",
        "    u=vectors[:,3],\n",
        "    v=vectors[:,4],\n",
        "    w=vectors[:,5],\n",
        "    anchor=\"tail\",\n",
        "    colorscale='Blues'))\n",
        "\n",
        "fig.update_layout(scene=dict(aspectratio=dict(x=1, y=1, z=0.8),\n",
        "                             camera_eye=dict(x=1.2, y=-1.2, z=0.6)))\n",
        "\n",
        "fig.show()"
      ]
    },
    {
      "cell_type": "markdown",
      "metadata": {},
      "source": [
        "## 행렬의 계산"
      ]
    },
    {
      "cell_type": "markdown",
      "metadata": {},
      "source": [
        "\n",
        "행렬 $A \\in \\mathbb{R}^{m \\times n} $ 와 $B \\in \\mathbb{R}^{m \\times n} $ 의 합은 요소별(element-wise)로 이루어지며 다음과 같이 정의된다.\n",
        "\n",
        "$$\n",
        "A + B\n",
        ":=\n",
        "\\begin{bmatrix}\n",
        "a_{11} + b_{11} & \\cdots & a_{1n} + b_{1n}\\\\\\vdots & & \\vdots \\\\a_{m1} + b_{m1} & \\cdots & a_{mn} + b_{mn}\\\\\n",
        "\\end{bmatrix}\n",
        "\\in \\mathbb{R}^{m \\times n}\n",
        "$$\n",
        "\n",
        "<br>\n",
        "\n",
        "행렬 $A \\in \\mathbb{R}^{m \\times n}$ 와 $B \\in \\mathbb{R}^{n \\times k}$ 의 곱은 $ A \\cdot B = C \\in \\mathbb{R}^{m \\times k}$ 로 표현되며, 요소 $c_{ij}$ 는 다음과 같이 계산된다.\n",
        "\n",
        "$$\n",
        "c_{ij} = \\sum_{l=1}^{n} a_{il}b_{lj}\n",
        ",\\qquad\n",
        "i = 1,\\dots,m,\\quad\n",
        "j = 1,\\dots,k.\n",
        "$$\n",
        "\n",
        "다음 코드를 완성해 행렬 $A \\in \\mathbb{R}^{m \\times n} $ 와 $B \\in \\mathbb{R}^{m \\times n} $ 의 합과 곱을 구하는 함수를 작성하라."
      ]
    },
    {
      "cell_type": "markdown",
      "metadata": {},
      "source": [
        "#### Exercise 1 : 행렬의 합(Matrix Addition)"
      ]
    },
    {
      "cell_type": "code",
      "execution_count": null,
      "metadata": {
        "trusted": true
      },
      "outputs": [],
      "source": [
        "def matrix_addition(A, B):\n",
        "    \n",
        "    # C = A + B\n",
        "    ### START CODE HERE\n",
        "\n",
        "    ### END CODE HERE\n",
        "    return C"
      ]
    },
    {
      "cell_type": "code",
      "execution_count": null,
      "metadata": {},
      "outputs": [],
      "source": [
        "from grading import *\n",
        "\n",
        "grade_matrix_addition(matrix_addition)"
      ]
    },
    {
      "cell_type": "markdown",
      "metadata": {},
      "source": [
        "#### Exercise 2 : 행렬의 곱(Matrix Multiplication)"
      ]
    },
    {
      "cell_type": "code",
      "execution_count": null,
      "metadata": {
        "trusted": true
      },
      "outputs": [],
      "source": [
        "def matrix_multiplication(A, B):\n",
        "    \n",
        "    # C = A • B\n",
        "    ### START CODE HERE\n",
        "\n",
        "    ### END CODE HERE\n",
        "    return C"
      ]
    },
    {
      "cell_type": "markdown",
      "metadata": {},
      "source": [
        "#### Exercise 3 : 아다마르 곱(Hadamard product)"
      ]
    },
    {
      "cell_type": "markdown",
      "metadata": {},
      "source": [
        "같은 크기의 두 행렬의 각 성분을 곱하는 연산으로 <b>아다마르 곱</b>이 존재한다.\n",
        "\n",
        "즉, 요소별 계산(element-wise operation)을 하며  아다마르곱은 덧셈에 대하여 분배 법칙을 따르고 다음과 같이 표현된다.<br>\n",
        "\n",
        "$$\n",
        "M \\bigcirc N =\n",
        "\\begin{bmatrix}\n",
        "M_{11}N_{11}&M_{12}N_{12}&\\dotsm &M_{1n}N_{1n}\\\\\n",
        "M_{21}N_{21}&M_{22}N_{22}&&M_{2n}N_{2n}\\\\\n",
        "\\vdots &&\\ddots &\\vdots \\\\\n",
        "M_{m1}N_{m1}&M_{m2}N_{m2}&\\dotsm &M_{mn}N_{mn}\n",
        "\\end{bmatrix}\n",
        "\\in \\operatorname {Mat} (m,n;R)\n",
        "$$\n",
        "\n",
        "다음 코드를 완성해 행렬 $A \\in \\mathbb{R}^{m \\times n} $ 와 $B \\in \\mathbb{R}^{m \\times n} $ 의 아다마르곱을 구하는 함수를 작성하라."
      ]
    },
    {
      "cell_type": "code",
      "execution_count": null,
      "metadata": {
        "trusted": true
      },
      "outputs": [],
      "source": [
        "def hadamard_product(A, B):\n",
        "    \n",
        "    # C = A ⃝B\n",
        "    ### START CODE HERE\n",
        "\n",
        "    ### END CODE HERE\n",
        "    return C"
      ]
    },
    {
      "cell_type": "markdown",
      "metadata": {
        "tags": []
      },
      "source": [
        "## 역행렬과 전치행렬"
      ]
    },
    {
      "cell_type": "markdown",
      "metadata": {},
      "source": [
        "#### Exercise 4 : 역행렬(Inverse)"
      ]
    },
    {
      "cell_type": "markdown",
      "metadata": {},
      "source": [
        "정사각행렬 $A$ 와 $B$ 가 $AB = I_{n} = BA$ 를 만족할 때 $(\\;단, \\; A \\in \\mathbb{R}^{n \\times n}, \\; B \\in \\mathbb{R}^{n \\times n}\\;)$\n",
        "\n",
        "$B$ 를 $A$ 의 **역행렬(Inverse)** 이라 하고, $A^{-1}$ 라고 표현한다.\n",
        "\n",
        "역행렬을 구하는 함수를 만들어보자."
      ]
    },
    {
      "cell_type": "code",
      "execution_count": null,
      "metadata": {},
      "outputs": [],
      "source": [
        "def inverse(A):\n",
        "    \n",
        "    # B = A^(-1)\n",
        "    ### START CODE HERE\n",
        "\n",
        "    ### END CODE HERE\n",
        "    return B"
      ]
    },
    {
      "cell_type": "markdown",
      "metadata": {},
      "source": [
        "#### Exercise 5 : 전치행렬(Transpose)"
      ]
    },
    {
      "cell_type": "markdown",
      "metadata": {},
      "source": [
        "\n",
        "행렬 $A$, $B$ 의 각각의 요소가 $a_{ij} = b{ji}$ 일 때, $B$ 를 $A$ 의 **전치행렬**이라고 하며, $B = A^{T}$ 라고 한다.\n",
        "$( \\; A \\in \\mathbb{R}^{m \\times n}, \\; B \\in \\mathbb{R}^{n \\times m} \\; )$\n",
        "\n",
        "일반적으로, $A$ 의 열을 $A^{T}$ 의 행에 나열해서 $A^{T}$ 를 얻을 수 있다.\n",
        "\n",
        "전치행렬을 구하는 함수를 만들어보자."
      ]
    },
    {
      "cell_type": "code",
      "execution_count": null,
      "metadata": {},
      "outputs": [],
      "source": [
        "def transpose(A):\n",
        "\n",
        "    # B = A.T\n",
        "    ### START CODE HERE\n",
        "\n",
        "    ### END CODE HERE\n",
        "    return B\n",
        "    "
      ]
    },
    {
      "cell_type": "markdown",
      "metadata": {},
      "source": [
        "#### Exercise 6 : 대칭행렬(Symmetric Matrix)"
      ]
    },
    {
      "cell_type": "markdown",
      "metadata": {},
      "source": [
        "\n",
        "대칭행렬은 정사각행렬에서 **대각선에 대칭인 두 원소가 같은 행렬**을 말한다.\n",
        "\n",
        "즉, 정사각행렬의 원소 $a_{ij}$ 와 원소 $a_{ji}$ 가 같은 행렬이다 : $A = A^{T} ( \\; 단, \\; A \\in \\mathbb{R}^{n \\times n} \\; )$\n",
        "\n",
        "임의의 두 대칭행렬의 합은 항상 대칭행렬이라는 특징이 있다. \n",
        "\n",
        "행렬을 입력받아 대칭행렬인지 확인하는 함수를 만들어보자."
      ]
    },
    {
      "cell_type": "code",
      "execution_count": null,
      "metadata": {},
      "outputs": [],
      "source": [
        "def is_symmetric(A):\n",
        "\n",
        "    # is_symmetric = bool (True or False)\n",
        "    ### START CODE HERE\n",
        "    \n",
        "    ### END CODE HERE\n",
        "    return is_symmetric\n",
        "    "
      ]
    }
  ],
  "metadata": {
    "kernelspec": {
      "display_name": "Pyolite",
      "language": "python",
      "name": "python"
    },
    "language_info": {
      "codemirror_mode": {
        "name": "python",
        "version": 3
      },
      "file_extension": ".py",
      "mimetype": "text/x-python",
      "name": "python",
      "nbconvert_exporter": "python",
      "pygments_lexer": "ipython3",
      "version": "3.8"
    },
    "orig_nbformat": 4
  },
  "nbformat": 4,
  "nbformat_minor": 4
}
