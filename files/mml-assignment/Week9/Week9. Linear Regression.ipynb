{
 "cells": [
  {
   "cell_type": "markdown",
   "id": "b25d0d56",
   "metadata": {},
   "source": [
    "# MML ASSIGNMENT\n",
    "\n",
    "![](https://junnei.github.io/mml/assets/images/logo.png)"
   ]
  },
  {
   "cell_type": "markdown",
   "id": "df67ac4f",
   "metadata": {},
   "source": [
    "## 회귀(Regression)의 정의\n",
    "\n",
    "- 이번 챕터에서는 이전 Chapter 2, 5, 6, 7 개념을 이용하여 선형회귀(Linear Regression) 또는 곡선 피팅(curve fitting)에 대해서 다룰 것이다. \n",
    "\n",
    "- **회귀(Regression)**는 $x \\in \\mathbb{R}^d$ 를 만족하는 입력 $x$를 $f(x) \\in R$에 맵핑하는 함수 $f$를 찾는 것을 목표로 한다. \n",
    "\n",
    "- 이 챕터에서는 $x_n$이 훈련 세트(training Set)로 주어지고\n",
    "- 이에 상응하는 잡음(noise)가 섞인 관측 $y_n = f(x_n)+\\epsilon$이 주어졌다고 가정한다. \n",
    "\n",
    "- 이 챕터 전체에서 평균이 0인 가우시안 노이즈(Gaussian Noise)를 가정한다. 회귀 모델의 목적은 단순히 훈련 데이터에 대해 모델링할 뿐만이 아니라 훈련 데이터에 주어지지 않은 값에 대해서도 잘 예측할 수 있도록 설계 하는 것이다.(Chapter 8 참고)"
   ]
  },
  {
   "cell_type": "markdown",
   "id": "504458cf",
   "metadata": {},
   "source": [
    "## 필요한 library import"
   ]
  },
  {
   "cell_type": "code",
   "execution_count": 10,
   "id": "84ec2c95",
   "metadata": {},
   "outputs": [],
   "source": [
    "import numpy as np\n",
    "import matplotlib.pyplot as plt\n",
    "import scipy.linalg\n",
    "from sklearn.linear_model import LinearRegression\n",
    "\n",
    "import warnings\n",
    "warnings.filterwarnings('ignore')"
   ]
  },
  {
   "cell_type": "markdown",
   "id": "9b5d777d",
   "metadata": {},
   "source": [
    "## Exercise 1. 선형 회귀 함수 만들기(Linear Regression)\n",
    "\n",
    "다음을 만족하는 $x,y$가 있다고 가정하자\n",
    "$$\n",
    "p(y|x,\\theta) = \\mathcal{N}(y|f(x), \\sigma^2)\n",
    "$$\n",
    "\n",
    "여기서 입력은 $x \\in R_D$ 을 만족하고 $y \\in R$ 로 노이즈가 섞인 함수값이며 타겟(target)이다.\n",
    "우도함수를 이용하여, x와 y의 함수적 관계를 표현한 식은 아래와 같다.\n",
    "\n",
    "$$\n",
    "y = f (x) + \\epsilon\n",
    "$$\n",
    "\n",
    "$\\epsilon \\sim \\mathcal{N}(0,\\sigma^2)$는 독립이며, 평균이 0이고 분산이 $\\sigma^2$인 가우시안 분포를 따른다. 회귀의 목적은 정확한 데이터를 생산하고 일반화 시키는 $f$와 가장 가까운 혹은 비슷한 함수를 찾는 것이다. 즉, 함수를 통해 주어진 데이터를 생산할 수 있어야하고, 해당 함수는 그러한 데이터를 잘 일반화한 형태여야 된다는 것을 의미한다. \n",
    "\n",
    "그리고 이러한 형태의 꼴로 나타낼 수 있는 선형회귀 함수를 주어진 데이터를 이용해 만들어보자"
   ]
  },
  {
   "cell_type": "markdown",
   "id": "09453a87",
   "metadata": {},
   "source": [
    "### Exercise 1.1 \n",
    "\n",
    "선형회귀 식은 다음과 같다.\n",
    "\n",
    "$$\n",
    "y = \\theta X + b\n",
    "$$\n",
    "\n",
    "주어진 데이터를 이용하여 함수를 표현해보자."
   ]
  },
  {
   "cell_type": "code",
   "execution_count": 11,
   "id": "36383411",
   "metadata": {},
   "outputs": [
    {
     "data": {
      "image/png": "[encoded data removed]",
      "text/plain": [
       "<Figure size 432x288 with 1 Axes>"
      ]
     },
     "metadata": {
      "needs_background": "light"
     },
     "output_type": "display_data"
    },
    {
     "name": "stdout",
     "output_type": "stream",
     "text": [
      "b1= 0.9036432105793232 b0= 3.8296331975887057\n"
     ]
    }
   ],
   "source": [
    "# 데이터\n",
    "x = np.array([3,7,11,15,18,27,29,30,30,31,31,32,33,33,34,36,36, 36,37,38,39,39,39,40,41,42,42,43,44,45,46,47,50])\n",
    "y = np.array([5,11,21,16,16,28,27,25,35,30,40,32,34,32,34,37,38, 34,36,38,37,36,45,39,41,40,44,37,44,46,46,49,51])\n",
    "\n",
    "# 식\n",
    "xbar = np.mean(x)\n",
    "ybar = np.mean(y)\n",
    "## theta 구하기\n",
    "## your code (1 line)##\n",
    "\n",
    "##\n",
    "\n",
    "## your code (1 line)##\n",
    "\n",
    "##\n",
    "\n",
    "# 회귀 직선 그리기\n",
    "xfit = np.linspace(0,55,100)\n",
    "yfit = theta * xfit + b\n",
    "\n",
    "plt.scatter(x,y)\n",
    "plt.plot(xfit,yfit,'r')\n",
    "plt.show()\n",
    "\n",
    "print('b1=', b1, 'b0=', b0)"
   ]
  },
  {
   "cell_type": "markdown",
   "id": "bec36c58",
   "metadata": {},
   "source": [
    "## Exercise 1.2\n",
    "\n",
    "- 위 식을 scikit-learn의 Linear regression 함수를 이용하면 손쉽게 그려줄 수 있다. "
   ]
  },
  {
   "cell_type": "code",
   "execution_count": 13,
   "id": "8b3bb6ee",
   "metadata": {},
   "outputs": [
    {
     "name": "stdout",
     "output_type": "stream",
     "text": [
      "4.241692439297228\n",
      "0.8919523590182272\n"
     ]
    },
    {
     "data": {
      "image/png": "[encoded data removed]",
      "text/plain": [
       "<Figure size 432x288 with 1 Axes>"
      ]
     },
     "metadata": {
      "needs_background": "light"
     },
     "output_type": "display_data"
    }
   ],
   "source": [
    "## 데이터\n",
    "x = np.array([[3],[7],[11],[15],[18],[27],[29],[30],[30],[31],[31],[32],[33],[33],[34],[36],[36]])\n",
    "y = np.array([[5],[11],[21],[16],[16],[28],[27],[25],[35],[30],[40],[32],[34],[32],[34],[37],[38]])\n",
    "\n",
    "## LinearRegression의 fit함수 활용\n",
    "## your code (1 line)##\n",
    "\n",
    "# 회귀 직선 계수\n",
    "print(reg.intercept_[0]) # b\n",
    "print(reg.coef_[0][0]) # theta(slope)\n",
    "\n",
    "plt.scatter(x,y)\n",
    "plt.plot(x,reg.predict(x),'r')\n",
    "plt.show()"
   ]
  },
  {
   "cell_type": "markdown",
   "id": "e216d0d3",
   "metadata": {},
   "source": [
    "## Exercise 2 : MAP 추정 파라미터 "
   ]
  },
  {
   "cell_type": "markdown",
   "id": "0504b5dc",
   "metadata": {},
   "source": [
    "### 2.1 RMSE 구하기<BR>\n",
    "다항식의 평가에 있어서 RMSE(root-mean-squared-error)를 사용하려고 한다. 이를 먼저 정의하자.\n",
    "\n",
    "$$\n",
    "RMSE = \\sqrt{ \\frac{1}{N} \\sum_{n=1}^N (y_n - y^{pred}_n)^2 }\n",
    "$$"
   ]
  },
  {
   "cell_type": "code",
   "execution_count": 16,
   "id": "e6fd5492",
   "metadata": {},
   "outputs": [],
   "source": [
    "def RMSE(y, ypred):\n",
    "    ## YOUR CODE (1line)\n",
    "    # rmse = \n",
    "    \n",
    "    # END Code\n",
    "    return rmse"
   ]
  },
  {
   "cell_type": "markdown",
   "id": "c547dee9",
   "metadata": {},
   "source": [
    "### 2.2 Maximum likelihood estimator 정의\n",
    "우리는 maximum likelihood estimator를 다음과 같이 얻어 낼 수 있습니다.\n",
    "\n",
    "$$\n",
    "\\theta^{ML} = ( \\Phi^T \\Phi + \\kappa I)^{-1} \\Phi^T y\n",
    "$$\n",
    "\n",
    "위의 식을 통해 Maximum Likelihood estimator를 정의하자"
   ]
  },
  {
   "cell_type": "code",
   "execution_count": 30,
   "id": "dd2a4a1e",
   "metadata": {},
   "outputs": [],
   "source": [
    "def nonlinear_features_maximum_likelihood(Phi, y):\n",
    "    \n",
    "    kappa = 1e-08 # stability를 위해 추가\n",
    "    \n",
    "    D = Phi.shape[1]  \n",
    "    \n",
    "    ### Your Code\n",
    "    Pt = None # Phi^T*y\n",
    "    PP = None # Phi^T*Phi + kappa*I\n",
    "        \n",
    "    # maximum likelihood estimate\n",
    "    C = scipy.linalg.cho_factor(PP) \n",
    "    theta_ml = scipy.linalg.cho_solve(C, Pt) # inv(Phi^T*Phi)*Phi^T*y \n",
    "    \n",
    "    return theta_ml"
   ]
  },
  {
   "cell_type": "markdown",
   "id": "06c6d96f",
   "metadata": {},
   "source": [
    "다음과 같이 $ \\phi (x) $ 를 정의하자\n",
    "\n",
    "$$\n",
    "\\phi (x) = \n",
    "\\begin{bmatrix}\n",
    "1 \\\\\n",
    "x \\\\\n",
    "x^2 \\\\\n",
    "x^3 \\\\\n",
    "\\vdots \\\\\n",
    "x^{K-1}\n",
    "\\end{bmatrix}\n",
    "\\subseteq\n",
    "\\mathbb{R}^K\n",
    "$$\n"
   ]
  },
  {
   "cell_type": "code",
   "execution_count": 18,
   "id": "baf52cf3",
   "metadata": {},
   "outputs": [],
   "source": [
    "def poly_features(X, K):\n",
    "    \n",
    "    # X: inputs of size N x 1\n",
    "    # K: degree of the polynomial\n",
    "    # computes the feature matrix Phi (N x (K+1))\n",
    "    \n",
    "    X = X.flatten()\n",
    "    N = X.shape[0]\n",
    "    \n",
    "    #initialize Phi\n",
    "    Phi = np.zeros((N, K+1))\n",
    "    \n",
    "    # Compute the feature matrix in stages\n",
    "    for k in range(K+1):\n",
    "        ### Your Code\n",
    "        Phi[:,k] = None\n",
    "    return Phi"
   ]
  },
  {
   "cell_type": "code",
   "execution_count": 19,
   "id": "381b84e9",
   "metadata": {},
   "outputs": [
    {
     "data": {
      "image/png": "[encoded data removed]",
      "text/plain": [
       "<Figure size 432x288 with 1 Axes>"
      ]
     },
     "metadata": {
      "needs_background": "light"
     },
     "output_type": "display_data"
    }
   ],
   "source": [
    "###데이터 생성\n",
    "\n",
    "def g(x, sigma):\n",
    "    p = np.hstack([x**0, x**1, np.sin(x)])\n",
    "    w = np.array([-1.0, 0.1, 1.0]).reshape(-1,1)\n",
    "    return p @ w + sigma*np.random.normal(size=x.shape) \n",
    "\n",
    "sigma = 1.0 \n",
    "alpha = 1.0 \n",
    "N = 20\n",
    "\n",
    "np.random.seed(42)\n",
    "\n",
    "X = (np.random.rand(N)*10.0 - 5.0).reshape(-1,1)\n",
    "y = g(X, sigma)\n",
    "\n",
    "plt.figure()\n",
    "plt.plot(X, y, '+')\n",
    "plt.xlabel(\"$x$\")\n",
    "plt.ylabel(\"$y$\");"
   ]
  },
  {
   "cell_type": "markdown",
   "id": "3a72d70a",
   "metadata": {},
   "source": [
    "### 2.3 MAP 추정 파라미터 정의하기\n",
    "MAP 추정 파라미터는 다음과 같이 정의 할 수 있습니다. 남은 코드를 채워주세요\n",
    "\n",
    "$$\n",
    "\\theta^{MAP} = (\\Phi^T \\Phi + \\frac{\\sigma^2}{\\alpha^2}I)^{-1} \\Phi^T y\n",
    "$$"
   ]
  },
  {
   "cell_type": "markdown",
   "id": "eb47e7bf",
   "metadata": {},
   "source": [
    "Hint)\n",
    "\n",
    "1. $ I $ = np.eye(Phi.shape[1])"
   ]
  },
  {
   "cell_type": "code",
   "execution_count": 20,
   "id": "871c486b",
   "metadata": {},
   "outputs": [],
   "source": [
    "def map_estimate_poly(Phi, y, sigma, alpha):\n",
    "    # Phi: training inputs, Size of N x D\n",
    "    # y: training targets, Size of D x 1\n",
    "    # sigma: standard deviation of the noise \n",
    "    # alpha: standard deviation of the prior on the parameters\n",
    "    # returns: MAP estimate theta_map, Size of D x 1\n",
    "    \n",
    "    D = Phi.shape[1] \n",
    "    \n",
    "    PP = None #YOUR CODE\n",
    "    theta_map = scipy.linalg.solve(PP, Phi.T @ y)\n",
    "    \n",
    "    return theta_map"
   ]
  },
  {
   "cell_type": "code",
   "execution_count": 21,
   "id": "dba1382d",
   "metadata": {},
   "outputs": [
    {
     "data": {
      "text/plain": [
       "<matplotlib.legend.Legend at 0x17ad2ebb0>"
      ]
     },
     "execution_count": 21,
     "metadata": {},
     "output_type": "execute_result"
    },
    {
     "data": {
      "image/png": "[encoded data removed]",
      "text/plain": [
       "<Figure size 432x288 with 1 Axes>"
      ]
     },
     "metadata": {
      "needs_background": "light"
     },
     "output_type": "display_data"
    }
   ],
   "source": [
    "# get the MAP estimate\n",
    "K = 8 # polynomial degree   \n",
    "\n",
    "\n",
    "# feature matrix\n",
    "Phi = poly_features(X, K)\n",
    "\n",
    "theta_map = map_estimate_poly(Phi, y, sigma, alpha)\n",
    "\n",
    "# maximum likelihood estimate\n",
    "theta_ml = nonlinear_features_maximum_likelihood(Phi, y)\n",
    "\n",
    "Xtest = np.linspace(-5,5,100).reshape(-1,1)\n",
    "ytest = g(Xtest, sigma)\n",
    "\n",
    "Phi_test = poly_features(Xtest, K)\n",
    "y_pred_map = Phi_test @ theta_map\n",
    "\n",
    "y_pred_mle = Phi_test @ theta_ml\n",
    "\n",
    "plt.figure()\n",
    "plt.plot(X, y, '+')\n",
    "plt.plot(Xtest, y_pred_map)\n",
    "plt.plot(Xtest, g(Xtest, 0))\n",
    "plt.plot(Xtest, y_pred_mle)\n",
    "\n",
    "plt.legend([\"data\", \"map prediction\", \"ground truth function\", \"maximum likelihood\"])"
   ]
  },
  {
   "cell_type": "markdown",
   "id": "b7ec275c",
   "metadata": {},
   "source": [
    "이제 우리는 앞 서 정의한 RMSE를 활용하여 우리는 MAP가 최대 우도법에서 발견된 OVERFITTING을 얼마나 완화시켰는지 알아볼 수 있다."
   ]
  },
  {
   "cell_type": "code",
   "execution_count": 22,
   "id": "9e717516",
   "metadata": {},
   "outputs": [
    {
     "data": {
      "text/plain": [
       "<matplotlib.legend.Legend at 0x17cd82460>"
      ]
     },
     "execution_count": 22,
     "metadata": {},
     "output_type": "execute_result"
    },
    {
     "data": {
      "image/png": "[encoded data removed]",
      "text/plain": [
       "<Figure size 432x288 with 1 Axes>"
      ]
     },
     "metadata": {
      "needs_background": "light"
     },
     "output_type": "display_data"
    }
   ],
   "source": [
    "K_max = 12 # this is the maximum degree of polynomial we will consider\n",
    "assert(K_max < N) # this is the latest point when we'll run into numerical problems\n",
    "\n",
    "rmse_mle = np.zeros((K_max+1,))\n",
    "rmse_map = np.zeros((K_max+1,))\n",
    "\n",
    "for k in range(K_max+1):\n",
    "   \n",
    "    \n",
    "    # feature matrix\n",
    "    Phi = poly_features(X, k)\n",
    "    \n",
    "    # maximum likelihood estimate\n",
    "    theta_ml = nonlinear_features_maximum_likelihood(Phi, y)\n",
    "    \n",
    "    # predict the function values at the test input locations (maximum likelihood)\n",
    "    y_pred_test = 0*Xtest \n",
    "      \n",
    "    Phi_test = poly_features(Xtest, k)\n",
    "    \n",
    "    ypred_test_mle = Phi_test @ theta_ml\n",
    "    \n",
    "    \n",
    "    # RMSE on test set (maximum likelihood)\n",
    "    rmse_mle[k] = RMSE(ytest, ypred_test_mle)\n",
    "    \n",
    "    # MAP estimate\n",
    "    theta_map = map_estimate_poly(Phi, y, sigma, alpha)\n",
    "\n",
    "    # Feature matrix\n",
    "    Phi_test = poly_features(Xtest, k)\n",
    "    \n",
    "    # predict the function values at the test input locations (MAP)\n",
    "    ypred_test_map = Phi_test @ theta_map\n",
    "    \n",
    "    # RMSE on test set (MAP)\n",
    "    rmse_map[k] = RMSE(ytest, ypred_test_map)\n",
    "    \n",
    "\n",
    "plt.figure()\n",
    "plt.semilogy(rmse_mle) # this plots the RMSE on a logarithmic scale\n",
    "plt.semilogy(rmse_map) # this plots the RMSE on a logarithmic scale\n",
    "plt.xlabel(\"degree of polynomial\")\n",
    "plt.ylabel(\"RMSE\")\n",
    "plt.legend([\"Maximum likelihood\", \"MAP\"])"
   ]
  },
  {
   "cell_type": "markdown",
   "id": "4e5b262a",
   "metadata": {},
   "source": [
    "## 3. 베이지안 선형회귀(Bayesian linear regression)\n",
    "### 3.1 사후 분포(Posterior distribution)\n",
    "posterior distribution은 다음과 같이 구할 수 있다.\n",
    "\n",
    "$$\n",
    "\\begin{align}\n",
    "     p(\\theta|\\mathcal{X}, \\mathcal{Y}) = \\mathcal{N}(\\theta|m_N, S_N) \\\\\n",
    "     S_N = (S_0^(-1) + \\sigma^(-2)\\Phi^T\\Phi)^(-1) \\\\\n",
    "     m_N = S_N(S_0^(-1)m_0 + \\sigma^(-2)\\Phi^Ty) \\\\\n",
    "\\end{align}\n",
    "$$\n",
    "\n",
    "<br>\n",
    "1) 위 식을 사용하여 training set에 대한 $ m_N, s_N $ 을 구하는 posterior distribution 함수를 정의한다. <br>\n",
    "2) 정의한 함수를 사용하여 test set에 대한 posterior prediction을 진행하고자 한다. <br>\n",
    "3) 최종적으로 test set에 대한 Bayes linear regression 의 결과를 관찰한다. <br><br>\n",
    "\n",
    "\n",
    "\n",
    "Posterior distribution을 구하기 위해 필요한 Training dataset과 prior vairiance 및 noise variance는 다음과 같다."
   ]
  },
  {
   "cell_type": "code",
   "execution_count": 23,
   "id": "0d733bbf",
   "metadata": {},
   "outputs": [],
   "source": [
    "prior_var = 2.0 # variance of the parameter prior (alpha^2). We assume this is known.\n",
    "noise_var = 1.0 # noise varianc`e (sigma^2). We assume this is known.\n",
    "\n",
    "pol_deg = 3 # degree of the polynomial we consider at the moment\n",
    "\n",
    "Ntrain = 10\n",
    "Xtrain = np.random.uniform(high=5, low=-5, size=(Ntrain,1)) # training inputs, size Nx1\n",
    "y = g(X, np.sqrt(noise_var)) # training targets, size Nx1"
   ]
  },
  {
   "cell_type": "markdown",
   "id": "503bf20f",
   "metadata": {},
   "source": [
    "위 정보들을 활용하여 posterior distribution의 mean와 variance를 구하는 함수는 다음과 같다. "
   ]
  },
  {
   "cell_type": "code",
   "execution_count": 24,
   "id": "b1317c4b",
   "metadata": {},
   "outputs": [],
   "source": [
    "def post_dist(Xtrain, y, K, prior_var, noise_var):\n",
    "    # Xtrain: training inputs, size N x D\n",
    "    # y: training targets, size N x 1\n",
    "    # K: degree of polynomial we consider\n",
    "    # prior_var: prior variance of the parameter distribution\n",
    "    # sigma: noise variance\n",
    "    \n",
    "    jitter = 1e-08 # increases numerical stability\n",
    "    \n",
    "    Phi = poly_features(Xtrain, K) # N x (K+1) feature matrix \n",
    "    \n",
    "    Pt = Phi.T @ y # Phi*y, size (K+1,1)\n",
    "    PP = Phi.T @ Phi + jitter*np.eye(K+1) # size (K+1, K+1)\n",
    "    \n",
    "    # parameter posterior\n",
    "    iSN = (np.eye(K+1)/prior_var + PP/noise_var) # posterior precision\n",
    "    SN = scipy.linalg.pinv(noise_var*np.eye(K+1)/prior_var + PP)*noise_var  # posterior covariance\n",
    "    mN = scipy.linalg.solve(iSN, Pt/noise_var) # posterior mean\n",
    "    \n",
    "    return (mN, SN)"
   ]
  },
  {
   "cell_type": "markdown",
   "id": "b1e8e6de",
   "metadata": {},
   "source": [
    "위 함수를 활용하여 posterior distribution의 파라미터 mean와 파라미터 variance 를 구한다."
   ]
  },
  {
   "cell_type": "code",
   "execution_count": 25,
   "id": "86d852ff",
   "metadata": {},
   "outputs": [],
   "source": [
    "### START CODE HERE (1 line)\n",
    "theta_mean, theta_var = \n",
    "### END CODE HERE"
   ]
  },
  {
   "attachments": {},
   "cell_type": "markdown",
   "id": "d7e8f5aa",
   "metadata": {},
   "source": [
    "### 3.2 사후 예측(Posterior Prediction)\n",
    "posterior predictive distribution은 다음과 같이 구할 수 있다.\n",
    "\n",
    "![ex_screenshot](./Formula.png)"
   ]
  },
  {
   "cell_type": "markdown",
   "id": "8a6f0e5e",
   "metadata": {},
   "source": [
    "앞서 구한 posterior distribution의 mean과 variance를 사용하여 test set에 대한 posterior prediction을 진행하도록 한다."
   ]
  },
  {
   "cell_type": "code",
   "execution_count": 26,
   "id": "582289a6",
   "metadata": {},
   "outputs": [],
   "source": [
    "# Test inputs\n",
    "Ntest = 200\n",
    "Xtest = np.linspace(-5, 5, Ntest).reshape(-1,1) # test inputs"
   ]
  },
  {
   "cell_type": "code",
   "execution_count": 27,
   "id": "aaca73ef",
   "metadata": {},
   "outputs": [],
   "source": [
    "# predictive distribution (Bayesian linear regression)\n",
    "\n",
    "Phi_test = poly_features(Xtest, pol_deg) # N x (K+1)\n",
    "\n",
    "# mean prediction\n",
    "### START CODE HERE (1 line)\n",
    "mean_blr = Phi_test @ theta_mean\n",
    "### END CODE HERE\n",
    "\n",
    "# variance prediction\n",
    "\n",
    "### START CODE HERE (1 line)\n",
    "\n",
    "### END CODE HERE\n"
   ]
  },
  {
   "cell_type": "markdown",
   "id": "6f088a22",
   "metadata": {},
   "source": [
    "앞서 testset에 대한 Posterior prediction의 결과는 다음과 같이 확인할 수 있다. "
   ]
  },
  {
   "cell_type": "code",
   "execution_count": 28,
   "id": "4fe099c0",
   "metadata": {},
   "outputs": [
    {
     "data": {
      "image/png": "[encoded data removed]",
      "text/plain": [
       "<Figure size 432x288 with 1 Axes>"
      ]
     },
     "metadata": {
      "needs_background": "light"
     },
     "output_type": "display_data"
    }
   ],
   "source": [
    "# plot the posterior\n",
    "plt.figure()\n",
    "plt.plot(X, y, \"+\")\n",
    "var_blr = np.diag(cov_blr)\n",
    "conf_bound1 = np.sqrt(var_blr).flatten()\n",
    "conf_bound2 = 2.0*np.sqrt(var_blr).flatten()\n",
    "conf_bound3 = 2.0*np.sqrt(var_blr + sigma).flatten()\n",
    "\n",
    "plt.fill_between(Xtest.flatten(), mean_blr.flatten() + conf_bound1, \n",
    "                 mean_blr.flatten() - conf_bound1, alpha = 0.1, color=\"k\")\n",
    "plt.fill_between(Xtest.flatten(), mean_blr.flatten() + conf_bound2, \n",
    "                 mean_blr.flatten() - conf_bound2, alpha = 0.1, color=\"k\")\n",
    "plt.fill_between(Xtest.flatten(), mean_blr.flatten() + conf_bound3, \n",
    "                 mean_blr.flatten() - conf_bound3, alpha = 0.1, color=\"k\")\n",
    "plt.legend([\"Training data\",\"BLR\"])\n",
    "plt.xlabel('$x$');\n",
    "plt.ylabel('$y$');"
   ]
  }
 ],
 "metadata": {
  "kernelspec": {
   "display_name": "Python 3 (ipykernel)",
   "language": "python",
   "name": "python3"
  },
  "language_info": {
   "codemirror_mode": {
    "name": "ipython",
    "version": 3
   },
   "file_extension": ".py",
   "mimetype": "text/x-python",
   "name": "python",
   "nbconvert_exporter": "python",
   "pygments_lexer": "ipython3",
   "version": "3.9.10"
  }
 },
 "nbformat": 4,
 "nbformat_minor": 5
}
